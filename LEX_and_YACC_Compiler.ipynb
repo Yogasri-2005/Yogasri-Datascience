{
  "nbformat": 4,
  "nbformat_minor": 0,
  "metadata": {
    "colab": {
      "provenance": [],
      "include_colab_link": true
    },
    "kernelspec": {
      "name": "python3",
      "display_name": "Python 3"
    },
    "language_info": {
      "name": "python"
    }
  },
  "cells": [
    {
      "cell_type": "markdown",
      "metadata": {
        "id": "view-in-github",
        "colab_type": "text"
      },
      "source": [
        "<a href=\"https://colab.research.google.com/github/Yogasri-2005/Yogasri-Datascience/blob/main/LEX_and_YACC_Compiler.ipynb\" target=\"_parent\"><img src=\"https://colab.research.google.com/assets/colab-badge.svg\" alt=\"Open In Colab\"/></a>"
      ]
    },
    {
      "cell_type": "markdown",
      "source": [
        "# LEX and YACC Compiler in Colab\n",
        "\n",
        "Drawbacks:\n",
        "* Regular interrupts (Ctrl+D, Ctrl+C) for shell won't work in Colab while inputting for program.\n",
        "<br>Workaround: Store your inputs in a txt file and pass it to the program."
      ],
      "metadata": {
        "id": "Az09-x9PnHPq"
      }
    },
    {
      "cell_type": "code",
      "source": [
        "#@title Install *prerqeuisites* (run this cell first to work on LEX/YACC)\n",
        "!sudo apt install flex bison"
      ],
      "metadata": {
        "cellView": "form",
        "id": "CM_9N3RogX8y",
        "colab": {
          "base_uri": "https://localhost:8080/"
        },
        "outputId": "2257f319-3b16-4c86-8aea-6a922aecf76c"
      },
      "execution_count": 43,
      "outputs": [
        {
          "output_type": "stream",
          "name": "stdout",
          "text": [
            "Reading package lists... Done\n",
            "Building dependency tree... Done\n",
            "Reading state information... Done\n",
            "bison is already the newest version (2:3.8.2+dfsg-1build1).\n",
            "flex is already the newest version (2.6.4-8build2).\n",
            "0 upgraded, 0 newly installed, 0 to remove and 38 not upgraded.\n"
          ]
        }
      ]
    },
    {
      "cell_type": "markdown",
      "source": [
        "## Lex only"
      ],
      "metadata": {
        "id": "0IYbRG4He38g"
      }
    },
    {
      "cell_type": "code",
      "execution_count": 44,
      "metadata": {
        "colab": {
          "base_uri": "https://localhost:8080/"
        },
        "id": "Jyt0i_pTexWf",
        "outputId": "77df34e5-b170-4bed-cdb2-93c46ae4e5ae"
      },
      "outputs": [
        {
          "output_type": "stream",
          "name": "stdout",
          "text": [
            "Overwriting program.l\n"
          ]
        }
      ],
      "source": [
        "#@title Writing Lex program\n",
        "%%writefile program.l\n",
        "\n",
        "%{\n",
        "    #include <stdio.h>\n",
        "    int ctChar=0;\n",
        "    int ctSpace=0;\n",
        "    int ctWord=0;\n",
        "    int ctLine=0;\n",
        "%}\n",
        "WORD [^ \\t\\n,\\.:]+\n",
        "EOL [\\n]\n",
        "BLANK [ ]\n",
        "%%\n",
        "\n",
        "{WORD} {ctWord++; ctChar+=yyleng;}\n",
        "{BLANK} {ctSpace++;}\n",
        "{EOL} {ctLine++;}\n",
        ". {ctChar++;}\n",
        "%%\n",
        "\n",
        "void main(int argc, char *argv[]){\n",
        "    if(argc!=2){\n",
        "        printf(\"Usage:\\n\\t./a.out <FILENAME>\\n\");\n",
        "        exit(0);\n",
        "    }\n",
        "\n",
        "    yyin=fopen(argv[1],\"r\");\n",
        "    yylex();\n",
        "\n",
        "    printf(\"Word Count: %d\\n\",ctWord);\n",
        "    printf(\"Character Count: %d\\n\",ctChar);\n",
        "    printf(\"Space Count: %d\\n\",ctSpace);\n",
        "    printf(\"Line Count: %d\\n\",ctLine);\n",
        "    fclose(yyin);\n",
        "\n",
        "}\n",
        "\n",
        "int yywrap(){\n",
        "    return 1;\n",
        "}"
      ]
    },
    {
      "cell_type": "markdown",
      "source": [
        "if you want to use at txt as an input"
      ],
      "metadata": {
        "id": "erI5UjQzg3Sy"
      }
    },
    {
      "cell_type": "code",
      "source": [
        "%%writefile program.txt\n",
        "\n",
        "This is a sample file."
      ],
      "metadata": {
        "colab": {
          "base_uri": "https://localhost:8080/"
        },
        "id": "MUUdcBtRgtjf",
        "outputId": "bee766e9-fc9d-48ec-84a1-2d97e589ae33"
      },
      "execution_count": 45,
      "outputs": [
        {
          "output_type": "stream",
          "name": "stdout",
          "text": [
            "Overwriting program.txt\n"
          ]
        }
      ]
    },
    {
      "cell_type": "code",
      "source": [
        "#@title Shell Execution (you can rewrite the commands as per your need, eg. if you want to include a file as an input)\n",
        "%%shell\n",
        "\n",
        "lex -l program.l\n",
        "gcc lex.yy.c\n",
        "./a.out program.txt"
      ],
      "metadata": {
        "colab": {
          "base_uri": "https://localhost:8080/"
        },
        "id": "tqpZgNYpe263",
        "outputId": "9d7e552b-be1e-4f13-8758-3f1919a5ed6b"
      },
      "execution_count": 46,
      "outputs": [
        {
          "output_type": "stream",
          "name": "stdout",
          "text": [
            "Word Count: 5\n",
            "Character Count: 18\n",
            "Space Count: 4\n",
            "Line Count: 2\n"
          ]
        },
        {
          "output_type": "execute_result",
          "data": {
            "text/plain": []
          },
          "metadata": {},
          "execution_count": 46
        }
      ]
    },
    {
      "cell_type": "markdown",
      "source": [
        "## Lex and Yacc combined"
      ],
      "metadata": {
        "id": "9g3qzHuCe9s1"
      }
    },
    {
      "cell_type": "code",
      "source": [
        "#@title Writing YACC program\n",
        "%%writefile program.y\n",
        "%{\n",
        "#include <stdio.h>\n",
        "#include <stdlib.h>\n",
        "#include <string.h>\n",
        "\n",
        "void yyerror(const char* s) {\n",
        "    fprintf(stderr, \"Parse error: %s\\n\", s);\n",
        "}\n",
        "\n",
        "int yylex(); // Lexer declaration\n",
        "\n",
        "enum Type { TYPE_INT, TYPE_FLOAT, TYPE_CHAR };\n",
        "%}\n",
        "\n",
        "%union {\n",
        "    int iVal;\n",
        "    float fVal;\n",
        "    char* sVal;\n",
        "    int type; // Used to return the type from expression\n",
        "}\n",
        "\n",
        "%token <iVal> INTEGER\n",
        "%token <fVal> FLOAT\n",
        "%token <sVal> CHAR\n",
        "%token EOL\n",
        "\n",
        "%type <type> expression statement\n",
        "\n",
        "%%\n",
        "\n",
        "program:\n",
        "      /* empty */\n",
        "    | program line\n",
        ";\n",
        "\n",
        "line:\n",
        "      statement EOL {\n",
        "        if ($1 == TYPE_INT) {\n",
        "            printf(\"Type: INTEGER\\n\");\n",
        "        } else if ($1 == TYPE_FLOAT) {\n",
        "            printf(\"Type: FLOAT\\n\");\n",
        "        } else if ($1 == TYPE_CHAR) {\n",
        "            printf(\"Type: CHAR/STRING\\n\");\n",
        "        } else {\n",
        "            printf(\"Invalid type\\n\");\n",
        "        }\n",
        "    }\n",
        ";\n",
        "\n",
        "statement:\n",
        "    expression {\n",
        "        $$ = $1;\n",
        "    }\n",
        ";\n",
        "\n",
        "expression:\n",
        "      INTEGER {\n",
        "        $$ = TYPE_INT;\n",
        "    }\n",
        "    | FLOAT {\n",
        "        $$ = TYPE_FLOAT;\n",
        "    }\n",
        "    | CHAR {\n",
        "        $$ = TYPE_CHAR;\n",
        "    }\n",
        ";\n",
        "\n",
        "%%\n",
        "\n",
        "int main() {\n",
        "    printf(\"Enter values (integer, float, or char), one per line:\\n\");\n",
        "    yyparse();\n",
        "    return 0;\n",
        "}\n",
        "\n"
      ],
      "metadata": {
        "colab": {
          "base_uri": "https://localhost:8080/"
        },
        "id": "PR_WVl_3kvjz",
        "outputId": "84c589e6-54f8-4143-8f96-3dd619ea7bc9"
      },
      "execution_count": 47,
      "outputs": [
        {
          "output_type": "stream",
          "name": "stdout",
          "text": [
            "Overwriting program.y\n"
          ]
        }
      ]
    },
    {
      "cell_type": "code",
      "execution_count": 48,
      "metadata": {
        "colab": {
          "base_uri": "https://localhost:8080/"
        },
        "outputId": "91f3ffe2-7a06-4949-9f67-6fd641029397",
        "id": "d_jqt4ajkllz"
      },
      "outputs": [
        {
          "output_type": "stream",
          "name": "stdout",
          "text": [
            "Overwriting program.l\n"
          ]
        }
      ],
      "source": [
        "#@title Writing Lex program\n",
        "%%writefile program.l\n",
        "\n",
        "%{\n",
        "#include \"y.tab.h\"\n",
        "#include <stdlib.h>\n",
        "%}\n",
        "\n",
        "%%\n",
        "[0-9]+\\n        { yylval.iVal = atoi(yytext); return INTEGER; }\n",
        "[0-9]+\\.[0-9]+\\n { yylval.fVal = atof(yytext); return FLOAT; }\n",
        "\\\"[^\\\"]*\\\"\\n    { yylval.sVal = strdup(yytext); return CHAR; }\n",
        "\\n              { return EOL; }\n",
        "[ \\t]+          ; // Ignore whitespace\n",
        ".               { return EOL; } // Handle unexpected chars as EOL\n",
        "%%\n",
        "\n",
        "int yywrap() {\n",
        "    return 1;\n",
        "}\n"
      ]
    },
    {
      "cell_type": "markdown",
      "source": [
        "if you want to use at txt as an input"
      ],
      "metadata": {
        "id": "b0o39e7Ykll3"
      }
    },
    {
      "cell_type": "code",
      "source": [
        "%%writefile program.txt\n",
        "\n",
        "This is a sample file."
      ],
      "metadata": {
        "id": "vna5Qg34kll4",
        "colab": {
          "base_uri": "https://localhost:8080/"
        },
        "outputId": "7042bac5-b8ac-487e-c9c5-c7296e383ac4"
      },
      "execution_count": 49,
      "outputs": [
        {
          "output_type": "stream",
          "name": "stdout",
          "text": [
            "Overwriting program.txt\n"
          ]
        }
      ]
    },
    {
      "cell_type": "code",
      "source": [
        "#@title Shell Execution (you can rewrite the commands as per your need, eg. if you want to include a file as an input)\n",
        "%%shell\n",
        "\n",
        "yacc -d program.y\n",
        "lex program.l\n",
        "cc y.tab.c lex.yy.c -ll\n",
        "./a.out"
      ],
      "metadata": {
        "colab": {
          "base_uri": "https://localhost:8080/"
        },
        "outputId": "52ca1706-8568-424b-d11f-e510ef056591",
        "id": "nqs9Nq64kll4"
      },
      "execution_count": null,
      "outputs": [
        {
          "output_type": "stream",
          "name": "stdout",
          "text": [
            "Enter values (integer, float, or char), one per line:\n"
          ]
        }
      ]
    }
  ]
}